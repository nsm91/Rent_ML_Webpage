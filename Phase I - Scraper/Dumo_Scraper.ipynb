{
 "cells": [
  {
   "cell_type": "code",
   "execution_count": 39,
   "metadata": {},
   "outputs": [],
   "source": [
    "#Call in Dependencies\n",
    "import pandas as pd\n",
    "from bs4 import BeautifulSoup\n",
    "import requests\n",
    "from splinter import Browser\n",
    "from time import sleep\n",
    "import json"
   ]
  },
  {
   "cell_type": "code",
   "execution_count": 40,
   "metadata": {},
   "outputs": [],
   "source": [
    "#Innitiate Browser\n",
    "def init_browser():\n",
    "    executable_path = {'executable_path': 'C:/chromedriver.exe'}\n",
    "    return Browser('chrome', **executable_path, headless=False)"
   ]
  },
  {
   "cell_type": "code",
   "execution_count": 41,
   "metadata": {},
   "outputs": [],
   "source": [
    "#connect to URL and begin testing\n",
    "dumo = 'https://www.domu.com/chicago/apartment-search2?domu_search=60611'\n",
    "browser = init_browser()\n",
    "sleep(2)\n",
    "browser.visit(dumo)"
   ]
  },
  {
   "cell_type": "code",
   "execution_count": 43,
   "metadata": {},
   "outputs": [
    {
     "name": "stdout",
     "output_type": "stream",
     "text": [
      "<div class=\"domu-search-listing odd\" data-nid=\"643757\" data-position=\"41.889771,-87.632924\" data-price=\"$2,400\"> <div class=\"listing-inner\"> <div class=\"listing-fave\"><a class=\"domu-fav-icon\" data-nid=\"643757\" href=\"/domu/favs\"><span class=\"domu-icon-heart\"></span></a></div> <a class=\"listing-image b-lazy b-loaded\" href=\"/chicago/central/river-north/400-n-lasalle-dr-4504-chicago-il-60611\" style='background-image: url(\"https://www.domu.com/sites/default/files/styles/listing_teaser/public/filefield/field_img/400-n-lasalle-dr-4504-5-1587088632.jpg\");' target=\"_blank\" title=\"400 N Lasalle Dr #4504 | River North\"></a> <div class=\"listing-details\"> <h3 class=\"listing-price\"><a href=\"/chicago/central/river-north/400-n-lasalle-dr-4504-chicago-il-60611\" target=\"_blank\">$2,400</a></h3> <a class=\"listing-title\" href=\"/chicago/central/river-north/400-n-lasalle-dr-4504-chicago-il-60611\" target=\"_blank\"> 1 bedroom River North Condo </a> <div class=\"listing-address\"> 400 N Lasalle Dr #4504, Chicago, IL 60611 </div> <div class=\"listing-amenities\"> <div class=\"item-list\"><ul class=\"glance\"><li class=\"glance__a-c first\">Air Conditioning</li> <li class=\"glance__laundry\">In-unit Laundry</li> <li class=\"glance__utilities last\">Utilities Included</li> </ul></div> </div> </div> </div> </div>\n"
     ]
    }
   ],
   "source": [
    "soup0 = BeautifulSoup(browser.html, 'lxml')\n",
    "listings = soup0.find_all('div', class_='domu-search-listing')\n",
    "print(listings[0])"
   ]
  },
  {
   "cell_type": "code",
   "execution_count": 44,
   "metadata": {},
   "outputs": [
    {
     "data": {
      "text/plain": [
       "'/chicago/central/river-north/400-n-lasalle-dr-4504-chicago-il-60611'"
      ]
     },
     "execution_count": 44,
     "metadata": {},
     "output_type": "execute_result"
    }
   ],
   "source": [
    "url1 = listings[0].find('h3').find('a')['href']\n",
    "url1"
   ]
  },
  {
   "cell_type": "code",
   "execution_count": 45,
   "metadata": {},
   "outputs": [],
   "source": [
    "result_base = 'https://www.domu.com'\n",
    "browser.visit(result_base+url1)"
   ]
  },
  {
   "cell_type": "code",
   "execution_count": 46,
   "metadata": {},
   "outputs": [
    {
     "name": "stdout",
     "output_type": "stream",
     "text": [
      "/chicago/central/river-north/400-n-lasalle-dr-4504-chicago-il-60611\n",
      "/chicago/central/streeterville/axis\n",
      "/chicago/central/gold-coast/25-e-delaware-0\n",
      "/chicago/central/streeterville/cityfront-place\n",
      "/chicago/central/gold-coast/18-e-elm-1\n",
      "/chicago/central/gold-coast/30-e-elm-1-chicago-il-60611\n",
      "/chicago/central/gold-coast/the-seneca\n",
      "/chicago/central/gold-coast/the-chatelaine\n",
      "/chicago/central/streeterville/160-e-illinois-st-1702-chicago-il-60611-15\n",
      "/chicago/central/river-north/747-n-wabash-ave-1902-chicago-il-60611-1\n",
      "/chicago/central/streeterville/lake-shore-plaza-0\n",
      "/chicago/central/river-north/8-east-huron\n",
      "/chicago/central/streeterville/the-lofts-at-river-east\n",
      "/chicago/central/gold-coast/two-east-oak\n",
      "/chicago/central/gold-coast/palmolive-building/159-e-walton-pl-16b-chicago-il-60611\n",
      "/chicago/central/gold-coast/1150-n-lake-shore-dr-15j-chicago-il-60611\n",
      "/chicago/central/gold-coast/one-east-delaware/1-e-delaware-pl-23h-chicago-il-60611-0\n",
      "/chicago/central/river-north/river-plaza/405-n-wabash-ave-204-chicago-il-60611-0\n",
      "/chicago/central/gold-coast/one-east-delaware/1-e-delaware-pl-27e-chicago-il-60611\n",
      "/chicago/central/river-north/747-n-wabash-ave-805-chicago-il-60611-3\n"
     ]
    }
   ],
   "source": [
    "for listing in listings:\n",
    "    listing_url = listing.find('h3').find('a')['href']\n",
    "    print(listing_url)\n",
    "    browser.visit(result_base+listing_url)\n",
    "    sleep(5)"
   ]
  },
  {
   "cell_type": "code",
   "execution_count": null,
   "metadata": {},
   "outputs": [],
   "source": []
  }
 ],
 "metadata": {
  "kernelspec": {
   "display_name": "Python 3",
   "language": "python",
   "name": "python3"
  },
  "language_info": {
   "codemirror_mode": {
    "name": "ipython",
    "version": 3
   },
   "file_extension": ".py",
   "mimetype": "text/x-python",
   "name": "python",
   "nbconvert_exporter": "python",
   "pygments_lexer": "ipython3",
   "version": "3.7.5"
  }
 },
 "nbformat": 4,
 "nbformat_minor": 4
}
